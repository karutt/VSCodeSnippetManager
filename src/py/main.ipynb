{
 "cells": [
  {
   "cell_type": "code",
   "execution_count": 10,
   "metadata": {},
   "outputs": [],
   "source": [
    "# search_utils.py\n",
    "import difflib\n",
    "\n",
    "\n",
    "def calculate_similarity(key, query):\n",
    "    key = key.lower()\n",
    "    seq = difflib.SequenceMatcher(None, key, query)\n",
    "    return seq.ratio()\n",
    "\n",
    "\n",
    "def filter_and_rank_snippets(snippets, query):\n",
    "    ranked_results = sorted(\n",
    "        [(key, snippet, calculate_similarity(key, query)) for key, snippet in snippets.items()],\n",
    "        key=lambda x: x[2],\n",
    "        reverse=True,\n",
    "    )\n",
    "    return ranked_results[:20] if query else ranked_results\n",
    "\n",
    "def filter_and_rank_languages(languages, query):\n",
    "    ranked_results = sorted(\n",
    "        [(key, calculate_similarity(key, query)) for key in languages],\n",
    "        key=lambda x: x[1],\n",
    "        reverse=True,\n",
    "    )\n",
    "    return ranked_results[:20] if query else ranked_results"
   ]
  },
  {
   "cell_type": "code",
   "execution_count": 17,
   "metadata": {},
   "outputs": [
    {
     "data": {
      "text/plain": [
       "[[0.75, 'apple.py'],\n",
       " [0.6666666666666666, 'app_ok.go'],\n",
       " [0.5, 'pineapple.js'],\n",
       " [0.5, 'grape.unk'],\n",
       " [0.4, 'apricot.json'],\n",
       " [0.25, 'peach.test'],\n",
       " [0.2222222222222222, 'banana.ok']]"
      ]
     },
     "execution_count": 17,
     "metadata": {},
     "output_type": "execute_result"
    }
   ],
   "source": [
    "import os\n",
    "\n",
    "keys = [\"apple.py\", \"apricot.json\", \"banana.ok\", \"pineapple.js\", \"grape.unk\", \"peach.test\", \"app_ok.go\"]\n",
    "query = \"app\"\n",
    "\n",
    "sorted([[calculate_similarity(os.path.splitext(key)[0], query), key] for key in keys])[::-1]"
   ]
  },
  {
   "cell_type": "code",
   "execution_count": null,
   "metadata": {},
   "outputs": [],
   "source": []
  }
 ],
 "metadata": {
  "kernelspec": {
   "display_name": "python3_10",
   "language": "python",
   "name": "python3"
  },
  "language_info": {
   "codemirror_mode": {
    "name": "ipython",
    "version": 3
   },
   "file_extension": ".py",
   "mimetype": "text/x-python",
   "name": "python",
   "nbconvert_exporter": "python",
   "pygments_lexer": "ipython3",
   "version": "3.10.12"
  }
 },
 "nbformat": 4,
 "nbformat_minor": 2
}
